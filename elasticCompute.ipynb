{
 "cells": [
  {
   "cell_type": "markdown",
   "metadata": {},
   "source": [
    "#Elastic Compute Process Notebook\n",
    "http://harvard-team-pivot.github.io/elastic-compute/"
   ]
  },
  {
   "cell_type": "markdown",
   "metadata": {},
   "source": [
    "Sean Keery"
   ]
  },
  {
   "cell_type": "markdown",
   "metadata": {},
   "source": [
    "Rick Farmer"
   ]
  },
  {
   "cell_type": "markdown",
   "metadata": {},
   "source": [
    "Robert Johnson"
   ]
  },
  {
   "cell_type": "markdown",
   "metadata": {},
   "source": [
    "##Overview and Motivation"
   ]
  },
  {
   "cell_type": "markdown",
   "metadata": {},
   "source": [
    "We are entering the age of the third platform in IT. The way we run applications is changing rapidly and significantly.\n",
    "\n",
    "* Platform Zero -- Apps were run on mainframes, but they were too big and too expensive.\n",
    "* Platform One -- Apps ran on commoditized computer hardware such as a PC, but this came with a high degree of waste. CPUs, memory and disk remained underutilized as single apps sat relatively idle to provide excess capacity for workloads that never came.\n",
    "* Platform Two -- Computers were virtualized so that several would be able to run at once on one hardware computer. This better used the CPU, memory, and disk of the inter-connected computers, thus creating a cloud of infrastructure resulting in much less waste.\n",
    "\n",
    "The third platform moves the focus to driving business value and improving applications, instead of the increasing cost and infrastructure. We now virtualize applications into slices of CPU, memory, and disk of virtualized machines called containers. This process produces far less waste because the application containers can be spun-up or down in reaction to demand nearly instantly. We can scale applications to multiple nodes in places where capacity is available now, whether in Boston or Hong Kong. To scale well, applications are being redesigned as microservices, little units of work providing well-defined services to the whole of the modern distributed application.\n",
    "\n",
    "The key element enabling this is capacity planning and load alerting for the container managed clusters. Do we need to scale now? If so, do we scale the app out because we need more resources to serve an avalanche of demand? Or do we scale in, because Black Friday has passed and our retail app no longer needs to use so many resources?\n",
    "\n",
    "Our project is motivated to reduce waste by \"right-sizing\" energy consumption by linking it more directly to demand. Not many have seen the inside of a large Data Center, but these are colossal energy-hungry ventures on a scale that is difficult to appreciate without seeing one in person. Everything in a data center is planned around watt usage. About half of the wattage goes to server load and most of the rest to cooling equipment. If we can better predict and scale compute resource load more efficiently we have the opportunity to effect change globally at the 800 TWhr (Terawatt per hour) level and, perhaps, slow the projected rise in consumption by 2020 to 1,500 TWhr.\n",
    "\n",
    "\n",
    "Our inferential goals are to understand how better to do capacity planning and alerting for microservice-based, container-managed clusters of compute resources. We would like to learn what makes a good alert threshold, such that we can predictably recommend actions that will keep an application highly available under various demand scenarios ranging from low to high. Effectively, we want to investigate the elasticity of supply and demand on compute resources so that we can make ongoing dynamic recommendations about the proper scale for a given set of inputs.\n",
    "\n",
    "Benefits include:\n",
    "\n",
    "* Learning what a low usage state is for applications and provide information on the scale (how many compute nodes) that should be set on a dynamic basis\n",
    "* Reduction of energy usage by fitting the supply and demand more appropriately over time\n",
    "* Elastic compute. The ability to prescriptively maintain application availability with the minimum amount of compute resources\n"
   ]
  },
  {
   "cell_type": "markdown",
   "metadata": {},
   "source": [
    "##Related Work"
   ]
  },
  {
   "cell_type": "markdown",
   "metadata": {},
   "source": [
    "**NOTE TO SHAWN AND RICK - PLEASE EDIT IF WRONG**\n",
    "\n",
    "The initial project proposal was in part inspired based off of this blog post from Pivotal Labs \"Multivariate Time Series Forecasting for Virtual Machine and Capacity Planning: \n",
    "\n",
    "https://blog.pivotal.io/data-science-pivotal/products/multivariate-time-series-forecasting-for-virtual-machine-capacity-planning\n",
    "\n",
    "**THERE WAS MENTION OF A SIMILAR PROJECT FROM LAST SEMESTER - LINK?**\n"
   ]
  },
  {
   "cell_type": "markdown",
   "metadata": {},
   "source": [
    "##Initial Questions"
   ]
  },
  {
   "cell_type": "markdown",
   "metadata": {
    "collapsed": true
   },
   "source": [
    "##Exploratory Data Analysis"
   ]
  },
  {
   "cell_type": "markdown",
   "metadata": {},
   "source": [
    "First, we will import our python libararies that we will be using: NumPy, SciPy, matplotlib, pandas, and Seaborn. "
   ]
  },
  {
   "cell_type": "code",
   "execution_count": 1,
   "metadata": {
    "collapsed": false
   },
   "outputs": [],
   "source": [
    "%matplotlib inline\n",
    "import numpy as np\n",
    "import scipy as sp\n",
    "import matplotlib as mpl\n",
    "import matplotlib.cm as cm\n",
    "import matplotlib.pyplot as plt\n",
    "import pandas as pd\n",
    "pd.set_option('display.width', 500)\n",
    "pd.set_option('display.max_columns', 100)\n",
    "pd.set_option('display.notebook_repr_html', True)\n",
    "import seaborn as sns\n",
    "sns.set_style(\"whitegrid\")\n",
    "sns.set_context(\"poster\")"
   ]
  },
  {
   "cell_type": "markdown",
   "metadata": {},
   "source": [
    "We have been able to collect event data from Pivotal Labs Elastic Runtime deployment from <b>[NEED TIME PERIOD HERE]</b>. "
   ]
  },
  {
   "cell_type": "code",
   "execution_count": 2,
   "metadata": {
    "collapsed": false
   },
   "outputs": [],
   "source": [
    "container_IaaS_data=open('ContainerMetricIaaS.txt').read()\n",
    "container_PaaS_data=open('ContainerMetricPaaS.txt').read()\n",
    "container_SaaS_data=open('ContainerMetricSaas.txt').read()\n",
    "value_IaaS_data=open('valueMetricIaaS.txt').read()\n",
    "value_PaaS_data=open('valueMetricPaaS.txt').read()\n",
    "value_SaaS_data=open('valueMetricSaaS.txt').read()"
   ]
  },
  {
   "cell_type": "markdown",
   "metadata": {},
   "source": [
    "Our data is currently semi-structured and in order to perform analysis in the notebook we will translate our data into pandas dataframes, using our simple parsing functions <b>container_clean</b> and <b>value_clean</b>, which are to be used for container data and value data respectively."
   ]
  },
  {
   "cell_type": "code",
   "execution_count": 12,
   "metadata": {
    "collapsed": false
   },
   "outputs": [],
   "source": [
    "\"\"\"\n",
    "Function\n",
    "--------\n",
    "container_clean\n",
    "\n",
    "Inputs\n",
    "------\n",
    "data: a subset of Pivotal container data\n",
    "   \n",
    "Returns\n",
    "-------\n",
    "\n",
    "A Pandas dataframe containing the attributes of the semi-strucutred data passed in. \n",
    "\n",
    "\n",
    "Notes\n",
    "-----\n",
    "See description and example above.\n",
    "\"\"\"\n",
    "\n",
    "\n",
    "def container_clean(data):\n",
    "    \n",
    "    inDataSplit = data.split(\" \")\n",
    "    originList = [] \n",
    "    eventTypeList = []\n",
    "    timestampList = []\n",
    "    deployList = []\n",
    "    jobList = []\n",
    "    indexList = []\n",
    "    ipList = []\n",
    "    appIDList = []\n",
    "    instanceList = []\n",
    "    cpuList = []\n",
    "    memoryList = []\n",
    "    diskList = []\n",
    "    \n",
    "    for item in inDataSplit:\n",
    "        if \"origin:\" in item:\n",
    "            origin = item.replace(\">\\r\\n\\r\\norigin:\",\"\")\n",
    "            if \"\\n\\norigin:\" in origin: \n",
    "                origin = item.replace(\"\\n\\norigin:\",\"\")\n",
    "            if \"exit\\norigin:\" in origin: \n",
    "                origin = item.replace(\"exit\\norigin:\",\"\")\n",
    "            originList.append(origin)\n",
    "        if \"eventType:\" in item:\n",
    "            eventType = item.replace(\"eventType:\",\"\")\n",
    "            eventTypeList.append(eventType)\n",
    "        if \"timestamp:\" in item:\n",
    "            timestamp = item.replace(\"timestamp:\",\"\")\n",
    "            timestampList.append(timestamp)\n",
    "        if \"deployment:\" in item:\n",
    "            deployment = item.replace(\"deployment:\",\"\")\n",
    "            deployList.append(deployment)\n",
    "        if 'job:' in item:\n",
    "            job = item.replace(\"job:\",\"\")\n",
    "            jobList.append(job)\n",
    "        if 'index:' in item:\n",
    "            index = item.replace(\"index:\",\"\")\n",
    "            indexList.append(index)\n",
    "        if 'ip:' in item:\n",
    "            ip = item.replace(\"ip:\",\"\")\n",
    "            ipList.append(ip)\n",
    "        if 'applicationId:' in item:\n",
    "            applicationId = item.replace(\"containerMetric:<applicationId:\",\"\")\n",
    "            appIDList.append(applicationId)\n",
    "        if 'instanceIndex:' in item:\n",
    "            instanceIndex = item.replace(\"instanceIndex:\",\"\")\n",
    "            instanceList.append(instanceIndex)\n",
    "        if 'cpuPercentage:' in item:\n",
    "            cpuPercentage = float(item.replace(\"cpuPercentage:\",\"\"))\n",
    "            cpuList.append(cpuPercentage)\n",
    "        if 'memoryBytes:' in item:\n",
    "            memoryBytes = float(item.replace(\"memoryBytes:\",\"\"))\n",
    "            memoryList.append(memoryBytes)\n",
    "        if 'diskBytes:' in item:\n",
    "            diskBytes = float(item.replace(\"diskBytes:\",\"\"))\n",
    "            diskList.append(diskBytes)\n",
    "\n",
    "\n",
    "    dataDict = {\"origin\":originList,\"event_type\":eventTypeList,\"timestamp\":timestampList,\"deployment\":deployList,\"job\":jobList,\n",
    "           \"index\": indexList,\"ip_address\":ipList,\"applicationID\":appIDList,\"instance_index\":instanceList,\n",
    "           \"cpu_percentage\":cpuList,\"memory_bytes\":memoryList, \"disk_bytes\":diskList}\n",
    "\n",
    "    returnDF = pd.DataFrame(dataDict)\n",
    "    returnDF.index = returnDF[\"timestamp\"]\n",
    "    returnDF = returnDF.drop(\"timestamp\", axis = 1)\n",
    "    return returnDF\n"
   ]
  },
  {
   "cell_type": "code",
   "execution_count": 13,
   "metadata": {
    "collapsed": false
   },
   "outputs": [],
   "source": [
    "\"\"\"\n",
    "Function\n",
    "--------\n",
    "value_clean\n",
    "\n",
    "Inputs\n",
    "------\n",
    "data: a subset of Pivotal value data\n",
    "   \n",
    "Returns\n",
    "-------\n",
    "\n",
    "A Pandas dataframe containing the attributes of the semi-strucutred data passed in. \n",
    "\n",
    "\n",
    "Notes\n",
    "-----\n",
    "See description and example above.\n",
    "\"\"\"\n",
    "\n",
    "def value_clean(data):\n",
    "    \n",
    "    inDataSplit = data.split(\" \")\n",
    "    originList = [] \n",
    "    eventTypeList = []\n",
    "    timestampList = []\n",
    "    deployList = []\n",
    "    jobList = []\n",
    "    indexList = []\n",
    "    ipList = []\n",
    "    nameList = []\n",
    "    valueList = []\n",
    "    unitList = []\n",
    "\n",
    "    \n",
    "    for item in inDataSplit:\n",
    "        if \"origin:\" in item:\n",
    "            origin = item.replace(\"\\norigin:\",\"\")\n",
    "            if \"exit\" in origin:\n",
    "                origin = origin.replace(\"exit\",\"\")\n",
    "            if \"\\n\" in origin:\n",
    "                origin = origin.replace(\"\\n\",\"\")\n",
    "            originList.append(origin)\n",
    "        if \"eventType:\" in item:\n",
    "            eventType = item.replace(\"eventType:\",\"\")\n",
    "            eventTypeList.append(eventType)\n",
    "        if \"timestamp:\" in item:\n",
    "            timestamp = str(item.replace(\"timestamp:\",\"\"))\n",
    "            timestampList.append(timestamp)\n",
    "        if \"deployment:\" in item:\n",
    "            deployment = item.replace(\"deployment:\",\"\")\n",
    "            deployList.append(deployment)\n",
    "        if 'job:' in item:\n",
    "            job = item.replace(\"job:\",\"\")\n",
    "            jobList.append(job)\n",
    "        if 'index:' in item:\n",
    "            index = item.replace(\"index:\",\"\")\n",
    "            indexList.append(index)\n",
    "        if 'ip:' in item:\n",
    "            ip = item.replace(\"ip:\",\"\")\n",
    "            ipList.append(ip)\n",
    "        if 'name:' in item:\n",
    "            nameId = item.replace(\"valueMetric:<name:\",\"\")\n",
    "            nameList.append(nameId)\n",
    "        if 'value:' in item:\n",
    "            value = float(item.replace(\"value:\",\"\"))\n",
    "            valueList.append(value)\n",
    "        if 'unit:' in item:\n",
    "            unit = item.replace(\"unit:\",\"\")\n",
    "            unitList.append(unit)    \n",
    "        \n",
    "\n",
    "    dataDict = {\"origin\":originList,\"event_type\":eventTypeList,\"timestamp\":timestampList,\"deployment\":deployList,\"job\":jobList,\n",
    "           \"index\": indexList,\"ip_address\":ipList,\"name\":nameList,\"value\":valueList, \"unit\":unitList}\n",
    "\n",
    "    returnDF = pd.DataFrame(dataDict)\n",
    "    returnDF.index = returnDF[\"timestamp\"]\n",
    "    returnDF = returnDF.drop(\"timestamp\", axis = 1)\n",
    "    return returnDF\n"
   ]
  },
  {
   "cell_type": "markdown",
   "metadata": {},
   "source": [
    "Our functions will be used on our data sets, creating six total data frames: three for container data and three for value data. "
   ]
  },
  {
   "cell_type": "code",
   "execution_count": 14,
   "metadata": {
    "collapsed": false
   },
   "outputs": [],
   "source": [
    "containerIaaSDF = container_clean(container_IaaS_data)\n",
    "containerPaaSDF = container_clean(container_PaaS_data)\n",
    "containerSaaSDF = container_clean(container_SaaS_data)\n",
    "\n",
    "valueIaaSDF = value_clean(value_IaaS_data)\n",
    "valuePaaSDF = value_clean(value_PaaS_data)\n",
    "valueSaaSDF = value_clean(value_SaaS_data)"
   ]
  },
  {
   "cell_type": "markdown",
   "metadata": {},
   "source": [
    "Below is an example of a container data frame and an example of a value data frame."
   ]
  },
  {
   "cell_type": "code",
   "execution_count": 15,
   "metadata": {
    "collapsed": false
   },
   "outputs": [
    {
     "data": {
      "text/html": [
       "<div>\n",
       "<table border=\"1\" class=\"dataframe\">\n",
       "  <thead>\n",
       "    <tr style=\"text-align: right;\">\n",
       "      <th></th>\n",
       "      <th>applicationID</th>\n",
       "      <th>cpu_percentage</th>\n",
       "      <th>deployment</th>\n",
       "      <th>disk_bytes</th>\n",
       "      <th>event_type</th>\n",
       "      <th>index</th>\n",
       "      <th>instance_index</th>\n",
       "      <th>ip_address</th>\n",
       "      <th>job</th>\n",
       "      <th>memory_bytes</th>\n",
       "      <th>origin</th>\n",
       "    </tr>\n",
       "    <tr>\n",
       "      <th>timestamp</th>\n",
       "      <th></th>\n",
       "      <th></th>\n",
       "      <th></th>\n",
       "      <th></th>\n",
       "      <th></th>\n",
       "      <th></th>\n",
       "      <th></th>\n",
       "      <th></th>\n",
       "      <th></th>\n",
       "      <th></th>\n",
       "      <th></th>\n",
       "    </tr>\n",
       "  </thead>\n",
       "  <tbody>\n",
       "    <tr>\n",
       "      <th>1448757452182774182</th>\n",
       "      <td>\"784c0af0-9c20-4d27-90ca-9b467b009a32\"</td>\n",
       "      <td>0.179657</td>\n",
       "      <td>\"cf\"</td>\n",
       "      <td>69152768</td>\n",
       "      <td>ContainerMetric</td>\n",
       "      <td>\"1\"</td>\n",
       "      <td>2</td>\n",
       "      <td>\"10.0.16.24\"</td>\n",
       "      <td>\"diego_cell-partition-f99bec444d276db0e93a\"</td>\n",
       "      <td>9949184</td>\n",
       "      <td>\"rep\"</td>\n",
       "    </tr>\n",
       "    <tr>\n",
       "      <th>1448757452182821978</th>\n",
       "      <td>\"784c0af0-9c20-4d27-90ca-9b467b009a32\"</td>\n",
       "      <td>0.200273</td>\n",
       "      <td>\"cf\"</td>\n",
       "      <td>69169152</td>\n",
       "      <td>ContainerMetric</td>\n",
       "      <td>\"1\"</td>\n",
       "      <td>1</td>\n",
       "      <td>\"10.0.16.24\"</td>\n",
       "      <td>\"diego_cell-partition-f99bec444d276db0e93a\"</td>\n",
       "      <td>15273984</td>\n",
       "      <td>\"rep\"</td>\n",
       "    </tr>\n",
       "    <tr>\n",
       "      <th>1448757452182848459</th>\n",
       "      <td>\"b1138b50-eff3-4aca-abfd-f96ff1acf6f1\"</td>\n",
       "      <td>0.023017</td>\n",
       "      <td>\"cf\"</td>\n",
       "      <td>93200384</td>\n",
       "      <td>ContainerMetric</td>\n",
       "      <td>\"1\"</td>\n",
       "      <td>0</td>\n",
       "      <td>\"10.0.16.24\"</td>\n",
       "      <td>\"diego_cell-partition-f99bec444d276db0e93a\"</td>\n",
       "      <td>62615552</td>\n",
       "      <td>\"rep\"</td>\n",
       "    </tr>\n",
       "    <tr>\n",
       "      <th>1448757452182872351</th>\n",
       "      <td>\"b1aca68a-19a7-4b4d-aeb1-accf3cff5dca\"</td>\n",
       "      <td>0.085007</td>\n",
       "      <td>\"cf\"</td>\n",
       "      <td>162201600</td>\n",
       "      <td>ContainerMetric</td>\n",
       "      <td>\"1\"</td>\n",
       "      <td>0</td>\n",
       "      <td>\"10.0.16.24\"</td>\n",
       "      <td>\"diego_cell-partition-f99bec444d276db0e93a\"</td>\n",
       "      <td>312029184</td>\n",
       "      <td>\"rep\"</td>\n",
       "    </tr>\n",
       "    <tr>\n",
       "      <th>1448757452182890660</th>\n",
       "      <td>\"de712236-f466-4852-bcee-d06fb7e2a7a5\"</td>\n",
       "      <td>0.031018</td>\n",
       "      <td>\"cf\"</td>\n",
       "      <td>68833280</td>\n",
       "      <td>ContainerMetric</td>\n",
       "      <td>\"1\"</td>\n",
       "      <td>0</td>\n",
       "      <td>\"10.0.16.24\"</td>\n",
       "      <td>\"diego_cell-partition-f99bec444d276db0e93a\"</td>\n",
       "      <td>14073856</td>\n",
       "      <td>\"rep\"</td>\n",
       "    </tr>\n",
       "  </tbody>\n",
       "</table>\n",
       "</div>"
      ],
      "text/plain": [
       "                                              applicationID  cpu_percentage deployment  disk_bytes       event_type index instance_index    ip_address                                          job  memory_bytes origin\n",
       "timestamp                                                                                                                                                                                                               \n",
       "1448757452182774182  \"784c0af0-9c20-4d27-90ca-9b467b009a32\"        0.179657       \"cf\"    69152768  ContainerMetric   \"1\"              2  \"10.0.16.24\"  \"diego_cell-partition-f99bec444d276db0e93a\"       9949184  \"rep\"\n",
       "1448757452182821978  \"784c0af0-9c20-4d27-90ca-9b467b009a32\"        0.200273       \"cf\"    69169152  ContainerMetric   \"1\"              1  \"10.0.16.24\"  \"diego_cell-partition-f99bec444d276db0e93a\"      15273984  \"rep\"\n",
       "1448757452182848459  \"b1138b50-eff3-4aca-abfd-f96ff1acf6f1\"        0.023017       \"cf\"    93200384  ContainerMetric   \"1\"              0  \"10.0.16.24\"  \"diego_cell-partition-f99bec444d276db0e93a\"      62615552  \"rep\"\n",
       "1448757452182872351  \"b1aca68a-19a7-4b4d-aeb1-accf3cff5dca\"        0.085007       \"cf\"   162201600  ContainerMetric   \"1\"              0  \"10.0.16.24\"  \"diego_cell-partition-f99bec444d276db0e93a\"     312029184  \"rep\"\n",
       "1448757452182890660  \"de712236-f466-4852-bcee-d06fb7e2a7a5\"        0.031018       \"cf\"    68833280  ContainerMetric   \"1\"              0  \"10.0.16.24\"  \"diego_cell-partition-f99bec444d276db0e93a\"      14073856  \"rep\""
      ]
     },
     "execution_count": 15,
     "metadata": {},
     "output_type": "execute_result"
    }
   ],
   "source": [
    "containerIaaSDF.head()"
   ]
  },
  {
   "cell_type": "code",
   "execution_count": 16,
   "metadata": {
    "collapsed": false
   },
   "outputs": [
    {
     "data": {
      "text/html": [
       "<div>\n",
       "<table border=\"1\" class=\"dataframe\">\n",
       "  <thead>\n",
       "    <tr style=\"text-align: right;\">\n",
       "      <th></th>\n",
       "      <th>deployment</th>\n",
       "      <th>event_type</th>\n",
       "      <th>index</th>\n",
       "      <th>ip_address</th>\n",
       "      <th>job</th>\n",
       "      <th>name</th>\n",
       "      <th>origin</th>\n",
       "      <th>unit</th>\n",
       "      <th>value</th>\n",
       "    </tr>\n",
       "    <tr>\n",
       "      <th>timestamp</th>\n",
       "      <th></th>\n",
       "      <th></th>\n",
       "      <th></th>\n",
       "      <th></th>\n",
       "      <th></th>\n",
       "      <th></th>\n",
       "      <th></th>\n",
       "      <th></th>\n",
       "      <th></th>\n",
       "    </tr>\n",
       "  </thead>\n",
       "  <tbody>\n",
       "    <tr>\n",
       "      <th>1448757347152847149</th>\n",
       "      <td>\"cf\"</td>\n",
       "      <td>ValueMetric</td>\n",
       "      <td>\"0\"</td>\n",
       "      <td>\"10.0.16.26\"</td>\n",
       "      <td>\"doppler-partition-f99bec444d276db0e93a\"</td>\n",
       "      <td>\"messageRouter.numberOfFirehoseSinks\"</td>\n",
       "      <td>\"DopplerServer\"</td>\n",
       "      <td>\"sinks\"</td>\n",
       "      <td>1</td>\n",
       "    </tr>\n",
       "    <tr>\n",
       "      <th>1448757347472961124</th>\n",
       "      <td>\"cf\"</td>\n",
       "      <td>ValueMetric</td>\n",
       "      <td>\"0\"</td>\n",
       "      <td>\"10.0.16.22\"</td>\n",
       "      <td>\"diego_brain-partition-f99bec444d276db0e93a\"</td>\n",
       "      <td>\"logSenderTotalMessagesRead\"</td>\n",
       "      <td>\"route_emitter\"</td>\n",
       "      <td>\"count\"</td>\n",
       "      <td>0</td>\n",
       "    </tr>\n",
       "    <tr>\n",
       "      <th>1448757347473020422</th>\n",
       "      <td>\"cf\"</td>\n",
       "      <td>ValueMetric</td>\n",
       "      <td>\"0\"</td>\n",
       "      <td>\"10.0.16.22\"</td>\n",
       "      <td>\"diego_brain-partition-f99bec444d276db0e93a\"</td>\n",
       "      <td>\"numCPUS\"</td>\n",
       "      <td>\"route_emitter\"</td>\n",
       "      <td>\"count\"</td>\n",
       "      <td>1</td>\n",
       "    </tr>\n",
       "    <tr>\n",
       "      <th>1448757347473030741</th>\n",
       "      <td>\"cf\"</td>\n",
       "      <td>ValueMetric</td>\n",
       "      <td>\"0\"</td>\n",
       "      <td>\"10.0.16.22\"</td>\n",
       "      <td>\"diego_brain-partition-f99bec444d276db0e93a\"</td>\n",
       "      <td>\"numGoRoutines\"</td>\n",
       "      <td>\"route_emitter\"</td>\n",
       "      <td>\"count\"</td>\n",
       "      <td>69</td>\n",
       "    </tr>\n",
       "    <tr>\n",
       "      <th>1448757347473107003</th>\n",
       "      <td>\"cf\"</td>\n",
       "      <td>ValueMetric</td>\n",
       "      <td>\"0\"</td>\n",
       "      <td>\"10.0.16.22\"</td>\n",
       "      <td>\"diego_brain-partition-f99bec444d276db0e93a\"</td>\n",
       "      <td>\"memoryStats.numBytesAllocatedHeap\"</td>\n",
       "      <td>\"route_emitter\"</td>\n",
       "      <td>\"count\"</td>\n",
       "      <td>1691560</td>\n",
       "    </tr>\n",
       "  </tbody>\n",
       "</table>\n",
       "</div>"
      ],
      "text/plain": [
       "                    deployment   event_type index    ip_address                                           job                                   name           origin     unit    value\n",
       "timestamp                                                                                                                                                                              \n",
       "1448757347152847149       \"cf\"  ValueMetric   \"0\"  \"10.0.16.26\"      \"doppler-partition-f99bec444d276db0e93a\"  \"messageRouter.numberOfFirehoseSinks\"  \"DopplerServer\"  \"sinks\"        1\n",
       "1448757347472961124       \"cf\"  ValueMetric   \"0\"  \"10.0.16.22\"  \"diego_brain-partition-f99bec444d276db0e93a\"           \"logSenderTotalMessagesRead\"  \"route_emitter\"  \"count\"        0\n",
       "1448757347473020422       \"cf\"  ValueMetric   \"0\"  \"10.0.16.22\"  \"diego_brain-partition-f99bec444d276db0e93a\"                              \"numCPUS\"  \"route_emitter\"  \"count\"        1\n",
       "1448757347473030741       \"cf\"  ValueMetric   \"0\"  \"10.0.16.22\"  \"diego_brain-partition-f99bec444d276db0e93a\"                        \"numGoRoutines\"  \"route_emitter\"  \"count\"       69\n",
       "1448757347473107003       \"cf\"  ValueMetric   \"0\"  \"10.0.16.22\"  \"diego_brain-partition-f99bec444d276db0e93a\"    \"memoryStats.numBytesAllocatedHeap\"  \"route_emitter\"  \"count\"  1691560"
      ]
     },
     "execution_count": 16,
     "metadata": {},
     "output_type": "execute_result"
    }
   ],
   "source": [
    "valueIaaSDF.head()"
   ]
  },
  {
   "cell_type": "markdown",
   "metadata": {},
   "source": [
    "Now, we can begin to explore some of our data. Let's take a look at some basic descriptive statistics to get started."
   ]
  },
  {
   "cell_type": "code",
   "execution_count": 8,
   "metadata": {
    "collapsed": false
   },
   "outputs": [
    {
     "name": "stdout",
     "output_type": "stream",
     "text": [
      "IaaS Container Summary Statistics\n",
      "       cpu_percentage    disk_bytes  memory_bytes\n",
      "count       43.000000  4.300000e+01  4.300000e+01\n",
      "mean         0.192954  1.346400e+08  1.428090e+08\n",
      "std          0.419780  6.467369e+07  2.069358e+08\n",
      "min          0.000000  5.200691e+07  9.949184e+06\n",
      "25%          0.022879  6.915277e+07  1.527398e+07\n",
      "50%          0.072005  1.552220e+08  7.622656e+07\n",
      "75%          0.185923  1.622016e+08  1.279877e+08\n",
      "max          1.951099  2.866545e+08  7.861084e+08\n",
      "\n",
      "PaaS Container Summary Statistics\n",
      "       cpu_percentage    disk_bytes  memory_bytes\n",
      "count       45.000000  4.500000e+01  4.500000e+01\n",
      "mean         0.203002  1.375296e+08  1.519088e+08\n",
      "std          0.418793  6.462323e+07  2.066302e+08\n",
      "min          0.010351  5.200691e+07  9.949184e+06\n",
      "25%          0.024782  6.915277e+07  1.527398e+07\n",
      "50%          0.078420  1.552220e+08  7.623475e+07\n",
      "75%          0.186168  1.622016e+08  3.102474e+08\n",
      "max          1.899212  2.866545e+08  7.861125e+08\n",
      "\n",
      "SaaS Container Summary Statistics\n",
      "       cpu_percentage    disk_bytes  memory_bytes\n",
      "count       30.000000  3.000000e+01  3.000000e+01\n",
      "mean         1.786503  1.388003e+08  1.645213e+08\n",
      "std          6.231208  6.427410e+07  2.047829e+08\n",
      "min          0.009970  5.200691e+07  9.961472e+06\n",
      "25%          0.028727  6.915686e+07  1.540608e+07\n",
      "50%          0.076854  1.552220e+08  8.119910e+07\n",
      "75%          0.194090  1.622016e+08  2.830899e+08\n",
      "max         32.972180  2.866545e+08  7.861125e+08\n"
     ]
    }
   ],
   "source": [
    "print \"IaaS Container Summary Statistics\"\n",
    "print containerIaaSDF.describe() \n",
    "print \"\"\n",
    "print \"PaaS Container Summary Statistics\"\n",
    "print containerPaaSDF.describe()\n",
    "print \"\"\n",
    "print \"SaaS Container Summary Statistics\"\n",
    "print containerSaaSDF.describe()"
   ]
  },
  {
   "cell_type": "markdown",
   "metadata": {},
   "source": [
    "We can take a look at the summary statistics for our value data as well."
   ]
  },
  {
   "cell_type": "code",
   "execution_count": 143,
   "metadata": {
    "collapsed": false,
    "scrolled": true
   },
   "outputs": [
    {
     "name": "stdout",
     "output_type": "stream",
     "text": [
      "IaaS Value Summary Statistics\n",
      "count    1.564000e+03\n",
      "mean     5.256601e+07\n",
      "std      4.064148e+08\n",
      "min      0.000000e+00\n",
      "25%      8.000000e+00\n",
      "50%      6.900000e+01\n",
      "75%      6.991430e+05\n",
      "max      4.944930e+09\n",
      "Name: value, dtype: float64\n",
      "\n",
      "PaaS Value Summary Statistics\n",
      "count    1.628000e+03\n",
      "mean     5.213784e+07\n",
      "std      3.990171e+08\n",
      "min      0.000000e+00\n",
      "25%      8.000000e+00\n",
      "50%      7.700000e+01\n",
      "75%      7.043428e+05\n",
      "max      4.943411e+09\n",
      "Name: value, dtype: float64\n",
      "\n",
      "SaaS Value Summary Statistics\n",
      "count    1.354400e+04\n",
      "mean     9.139879e+06\n",
      "std      1.666479e+08\n",
      "min      0.000000e+00\n",
      "25%      1.000000e+00\n",
      "50%      1.000000e+00\n",
      "75%      1.000000e+00\n",
      "max      4.994340e+09\n",
      "Name: value, dtype: float64\n"
     ]
    }
   ],
   "source": [
    "print \"IaaS Value Summary Statistics\"\n",
    "print valueIaaSDF['value'].describe() \n",
    "print \"\"\n",
    "print \"PaaS Value Summary Statistics\"\n",
    "print valuePaaSDF['value'].describe()\n",
    "print \"\"\n",
    "print \"SaaS Value Summary Statistics\"\n",
    "print valueSaasDF['value'].describe()"
   ]
  },
  {
   "cell_type": "markdown",
   "metadata": {
    "collapsed": false
   },
   "source": []
  },
  {
   "cell_type": "code",
   "execution_count": null,
   "metadata": {
    "collapsed": false
   },
   "outputs": [],
   "source": []
  },
  {
   "cell_type": "markdown",
   "metadata": {
    "collapsed": true
   },
   "source": [
    "##Final Analysis"
   ]
  },
  {
   "cell_type": "code",
   "execution_count": null,
   "metadata": {
    "collapsed": true
   },
   "outputs": [],
   "source": []
  }
 ],
 "metadata": {
  "kernelspec": {
   "display_name": "Python 2",
   "language": "python",
   "name": "python2"
  },
  "language_info": {
   "codemirror_mode": {
    "name": "ipython",
    "version": 2
   },
   "file_extension": ".py",
   "mimetype": "text/x-python",
   "name": "python",
   "nbconvert_exporter": "python",
   "pygments_lexer": "ipython2",
   "version": "2.7.10"
  }
 },
 "nbformat": 4,
 "nbformat_minor": 0
}
